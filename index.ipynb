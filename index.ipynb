{
 "cells": [
  {
   "cell_type": "markdown",
   "metadata": {},
   "source": [
    "# Polynomial Regression - Lab"
   ]
  },
  {
   "cell_type": "markdown",
   "metadata": {},
   "source": [
    "## Introduction"
   ]
  },
  {
   "cell_type": "markdown",
   "metadata": {},
   "source": [
    "In this lab you'll practice your knowledge on adding polynomial terms to your regression model! "
   ]
  },
  {
   "cell_type": "markdown",
   "metadata": {},
   "source": [
    "## Objectives"
   ]
  },
  {
   "cell_type": "markdown",
   "metadata": {},
   "source": [
    "You will be able to:\n",
    "\n",
    "- Understand how to account for non-linear relationships between predictors and target variable using polynomial terms"
   ]
  },
  {
   "cell_type": "markdown",
   "metadata": {},
   "source": [
    "## Create the best plot using polynomials!"
   ]
  },
  {
   "cell_type": "markdown",
   "metadata": {},
   "source": [
    "Below, we created a plot with a clearly non-linear shape.\n",
    "\n",
    "- plot a polynomial function using `PolynomialFeatures` for polynomials up until the second, third and fourth degree.\n",
    "- print out the $R^2$ value for each of the three results. Draw conclusions with respect to which degree is best."
   ]
  },
  {
   "cell_type": "code",
   "execution_count": 1,
   "metadata": {},
   "outputs": [
    {
     "data": {
      "image/png": "[encoded data removed]",
      "text/plain": [
       "<Figure size 432x288 with 1 Axes>"
      ]
     },
     "metadata": {
      "needs_background": "light"
     },
     "output_type": "display_data"
    }
   ],
   "source": [
    "import numpy as np\n",
    "import matplotlib.pyplot as plt\n",
    "% matplotlib inline\n",
    "\n",
    "def pol(x):\n",
    "    return x * np.cos(x)\n",
    "\n",
    "x = np.linspace(0, 12, 100)\n",
    "rng = np.random.RandomState(1234)\n",
    "rng.shuffle(x)\n",
    "x = np.sort(x[:25])\n",
    "y = pol(x) + np.random.randn(25)*2\n",
    "\n",
    "plt.scatter(x, y, color='green', s=50, marker='.')\n",
    "\n",
    "plt.show();"
   ]
  },
  {
   "cell_type": "markdown",
   "metadata": {},
   "source": [
    "## Solution"
   ]
  },
  {
   "cell_type": "code",
   "execution_count": 10,
   "metadata": {},
   "outputs": [
    {
     "data": {
      "text/plain": [
       "array([[ 0.        ],\n",
       "       [ 0.12121212],\n",
       "       [ 0.24242424],\n",
       "       [ 0.36363636],\n",
       "       [ 0.48484848],\n",
       "       [ 0.60606061],\n",
       "       [ 0.72727273],\n",
       "       [ 0.84848485],\n",
       "       [ 0.96969697],\n",
       "       [ 1.09090909],\n",
       "       [ 1.21212121],\n",
       "       [ 1.33333333],\n",
       "       [ 1.45454545],\n",
       "       [ 1.57575758],\n",
       "       [ 1.6969697 ],\n",
       "       [ 1.81818182],\n",
       "       [ 1.93939394],\n",
       "       [ 2.06060606],\n",
       "       [ 2.18181818],\n",
       "       [ 2.3030303 ],\n",
       "       [ 2.42424242],\n",
       "       [ 2.54545455],\n",
       "       [ 2.66666667],\n",
       "       [ 2.78787879],\n",
       "       [ 2.90909091],\n",
       "       [ 3.03030303],\n",
       "       [ 3.15151515],\n",
       "       [ 3.27272727],\n",
       "       [ 3.39393939],\n",
       "       [ 3.51515152],\n",
       "       [ 3.63636364],\n",
       "       [ 3.75757576],\n",
       "       [ 3.87878788],\n",
       "       [ 4.        ],\n",
       "       [ 4.12121212],\n",
       "       [ 4.24242424],\n",
       "       [ 4.36363636],\n",
       "       [ 4.48484848],\n",
       "       [ 4.60606061],\n",
       "       [ 4.72727273],\n",
       "       [ 4.84848485],\n",
       "       [ 4.96969697],\n",
       "       [ 5.09090909],\n",
       "       [ 5.21212121],\n",
       "       [ 5.33333333],\n",
       "       [ 5.45454545],\n",
       "       [ 5.57575758],\n",
       "       [ 5.6969697 ],\n",
       "       [ 5.81818182],\n",
       "       [ 5.93939394],\n",
       "       [ 6.06060606],\n",
       "       [ 6.18181818],\n",
       "       [ 6.3030303 ],\n",
       "       [ 6.42424242],\n",
       "       [ 6.54545455],\n",
       "       [ 6.66666667],\n",
       "       [ 6.78787879],\n",
       "       [ 6.90909091],\n",
       "       [ 7.03030303],\n",
       "       [ 7.15151515],\n",
       "       [ 7.27272727],\n",
       "       [ 7.39393939],\n",
       "       [ 7.51515152],\n",
       "       [ 7.63636364],\n",
       "       [ 7.75757576],\n",
       "       [ 7.87878788],\n",
       "       [ 8.        ],\n",
       "       [ 8.12121212],\n",
       "       [ 8.24242424],\n",
       "       [ 8.36363636],\n",
       "       [ 8.48484848],\n",
       "       [ 8.60606061],\n",
       "       [ 8.72727273],\n",
       "       [ 8.84848485],\n",
       "       [ 8.96969697],\n",
       "       [ 9.09090909],\n",
       "       [ 9.21212121],\n",
       "       [ 9.33333333],\n",
       "       [ 9.45454545],\n",
       "       [ 9.57575758],\n",
       "       [ 9.6969697 ],\n",
       "       [ 9.81818182],\n",
       "       [ 9.93939394],\n",
       "       [10.06060606],\n",
       "       [10.18181818],\n",
       "       [10.3030303 ],\n",
       "       [10.42424242],\n",
       "       [10.54545455],\n",
       "       [10.66666667],\n",
       "       [10.78787879],\n",
       "       [10.90909091],\n",
       "       [11.03030303],\n",
       "       [11.15151515],\n",
       "       [11.27272727],\n",
       "       [11.39393939],\n",
       "       [11.51515152],\n",
       "       [11.63636364],\n",
       "       [11.75757576],\n",
       "       [11.87878788],\n",
       "       [12.        ]])"
      ]
     },
     "execution_count": 10,
     "metadata": {},
     "output_type": "execute_result"
    }
   ],
   "source": [
    "import numpy as np\n",
    "import matplotlib.pyplot as plt\n",
    "from sklearn.preprocessing import PolynomialFeatures\n",
    "from sklearn.linear_model import LinearRegression\n",
    "from sklearn.metrics import mean_squared_error, r2_score\n",
    "\n",
    "% matplotlib inline\n",
    "\n",
    "def pol(x):\n",
    "    return x * np.cos(x)\n",
    "\n",
    "x = np.linspace(0, 12, 100)\n",
    "rng = np.random.RandomState(1234)\n",
    "rng.shuffle(x)\n",
    "x = np.sort(x[:25])\n",
    "y = pol(x) + np.random.randn(25)*2\n",
    "\n",
    "x_plot = np.linspace(0, 12, 100)\n",
    "\n",
    "# reshape the arrays\n",
    "X = x[:, np.newaxis]\n",
    "X_plot = x_plot[:, np.newaxis]\n",
    "\n",
    "X_plot\n",
    "\n",
    "# colors = ['yellow', 'lightgreen', 'blue']\n",
    "# plt.figure(figsize=(10,6))\n",
    "# plt.scatter(x, y, color='green', s=50, marker='.', label=\"plot points\")\n",
    "\n",
    "# for index, degree in enumerate([2,3,4]):\n",
    "#     poly = PolynomialFeatures(degree)\n",
    "#     X = poly.fit_transform(X)\n",
    "#     X_plot = poly.fit_transform(X_plot)\n",
    "#     reg_poly = LinearRegression().fit(X, y)\n",
    "#     y_plot = reg_poly.predict(X_plot)\n",
    "#     plt.plot(x_plot, y_plot, color=colors[index], linewidth = 2 ,\n",
    "#              label=\"degree %d\" % degree)\n",
    "#     print(\"degree %d\" % degree, r2_score(y, reg_poly.predict(X)))\n",
    "\n",
    "# plt.legend(loc='lower left')\n",
    "# plt.show();\n",
    "# # features_poly = pd.DataFrame(pol_2nd.fit_transform(test_table.drop(columns=['Combined_suicide_rate'])), columns=poly.get_feature_names(test_table.drop(columns=['Combined_suicide_rate']).columns))"
   ]
  },
  {
   "cell_type": "markdown",
   "metadata": {},
   "source": [
    "## Summary"
   ]
  },
  {
   "cell_type": "markdown",
   "metadata": {},
   "source": [
    "Great! You now know how to include polynomials in your linear model!"
   ]
  }
 ],
 "metadata": {
  "kernelspec": {
   "display_name": "Python 3",
   "language": "python",
   "name": "python3"
  },
  "language_info": {
   "codemirror_mode": {
    "name": "ipython",
    "version": 3
   },
   "file_extension": ".py",
   "mimetype": "text/x-python",
   "name": "python",
   "nbconvert_exporter": "python",
   "pygments_lexer": "ipython3",
   "version": "3.6.6"
  }
 },
 "nbformat": 4,
 "nbformat_minor": 2
}
